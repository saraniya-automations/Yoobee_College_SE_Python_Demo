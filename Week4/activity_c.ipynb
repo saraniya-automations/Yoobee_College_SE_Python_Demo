{
 "cells": [
  {
   "cell_type": "code",
   "execution_count": null,
   "id": "b57b2e79",
   "metadata": {},
   "outputs": [
    {
     "name": "stdout",
     "output_type": "stream",
     "text": [
      "First line: This is line 1    This is line 2\n",
      "Name: 0, dtype: object\n",
      "Last line: This is line 1    This is line 100\n",
      "Name: 8, dtype: object\n"
     ]
    }
   ],
   "source": [
    "import pandas as pd\n",
    "\n",
    "# Read the .txt file as a single-column DataFrame\n",
    "df = pd.read_csv(r'c:\\Users\\hp\\Desktop\\Assignments\\Yoobee_College_SE_Python_Demo\\Week4\\sample_text.txt', delimiter=',')\n",
    "# Print the first and last line\n",
    "print(\"First line:\", df.iloc[0, 0])\n",
    "print(\"Last line:\", df.iloc[-1, 0])\n"
   ]
  }
 ],
 "metadata": {
  "kernelspec": {
   "display_name": "Demo_Saraniya",
   "language": "python",
   "name": "python3"
  },
  "language_info": {
   "codemirror_mode": {
    "name": "ipython",
    "version": 3
   },
   "file_extension": ".py",
   "mimetype": "text/x-python",
   "name": "python",
   "nbconvert_exporter": "python",
   "pygments_lexer": "ipython3",
   "version": "3.8.20"
  }
 },
 "nbformat": 4,
 "nbformat_minor": 5
}
