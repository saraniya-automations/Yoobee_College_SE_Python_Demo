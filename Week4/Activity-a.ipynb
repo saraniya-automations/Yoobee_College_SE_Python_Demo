{
 "cells": [
  {
   "cell_type": "code",
   "execution_count": 2,
   "id": "ba06a2d8",
   "metadata": {},
   "outputs": [
    {
     "name": "stdout",
     "output_type": "stream",
     "text": [
      "   EmailID                        Subject                Sender  \\\n",
      "0        1             Win a Free iPhone!      promo@winbig.com   \n",
      "1        2  Important: Account Suspension  support@fakemail.com   \n",
      "\n",
      "                                     Content  ContainsLink  IsSpam  \n",
      "0  Click here to claim your free iPhone now!          True    True  \n",
      "1   We noticed unusual activity. Verify now.          True    True  \n"
     ]
    }
   ],
   "source": [
    "import pandas as pd\n",
    "\n",
    "df = pd.read_csv(r'C:\\Users\\hp\\Desktop\\Assignments\\Yoobee_College_SE_Python_Demo\\Week4\\sample_junk_mail.csv')\n",
    "\n",
    "print(df.head(2))\n"
   ]
  }
 ],
 "metadata": {
  "kernelspec": {
   "display_name": "Demo_Saraniya",
   "language": "python",
   "name": "python3"
  },
  "language_info": {
   "codemirror_mode": {
    "name": "ipython",
    "version": 3
   },
   "file_extension": ".py",
   "mimetype": "text/x-python",
   "name": "python",
   "nbconvert_exporter": "python",
   "pygments_lexer": "ipython3",
   "version": "3.8.20"
  }
 },
 "nbformat": 4,
 "nbformat_minor": 5
}
