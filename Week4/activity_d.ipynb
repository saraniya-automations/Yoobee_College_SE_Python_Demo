{
 "cells": [
  {
   "cell_type": "code",
   "execution_count": 4,
   "id": "d4577bc0",
   "metadata": {},
   "outputs": [
    {
     "name": "stdout",
     "output_type": "stream",
     "text": [
      "Number of records: 891\n"
     ]
    }
   ],
   "source": [
    "import pandas as pd\n",
    "\n",
    "# Load the Parquet file using a raw string or forward slashes\n",
    "df = pd.read_parquet(r'C:\\Users\\hp\\Desktop\\Assignments\\Yoobee_College_SE_Python_Demo\\Week4\\Sample_data_2.parquet')\n",
    "\n",
    "# Print the number of records (rows)\n",
    "print(\"Number of records:\", len(df))\n"
   ]
  }
 ],
 "metadata": {
  "kernelspec": {
   "display_name": "Demo_Saraniya",
   "language": "python",
   "name": "python3"
  },
  "language_info": {
   "codemirror_mode": {
    "name": "ipython",
    "version": 3
   },
   "file_extension": ".py",
   "mimetype": "text/x-python",
   "name": "python",
   "nbconvert_exporter": "python",
   "pygments_lexer": "ipython3",
   "version": "3.8.20"
  }
 },
 "nbformat": 4,
 "nbformat_minor": 5
}
