{
 "cells": [
  {
   "cell_type": "code",
   "execution_count": null,
   "id": "9fc08d05",
   "metadata": {},
   "outputs": [],
   "source": [
    "import math as mt\n",
    "\n",
    "rectangular_length = abs(10.11)\n",
    "rectangular_width = abs(11.12)\n",
    "\n",
    "area = rectangular_length * rectangular_width\n",
    "\n",
    "print('Area is :',area)\n",
    "print('Area apx is :',round(area))\n",
    "\n",
    "\n"
   ]
  }
 ],
 "metadata": {
  "language_info": {
   "name": "python"
  }
 },
 "nbformat": 4,
 "nbformat_minor": 5
}
