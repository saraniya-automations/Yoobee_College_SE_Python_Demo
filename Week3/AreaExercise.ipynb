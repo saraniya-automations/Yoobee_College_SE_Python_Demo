{
 "cells": [
  {
   "cell_type": "code",
   "execution_count": 1,
   "id": "9fc08d05",
   "metadata": {},
   "outputs": [
    {
     "ename": "TypeError",
     "evalue": "cannot unpack non-iterable builtin_function_or_method object",
     "output_type": "error",
     "traceback": [
      "\u001b[1;31m---------------------------------------------------------------------------\u001b[0m",
      "\u001b[1;31mTypeError\u001b[0m                                 Traceback (most recent call last)",
      "Cell \u001b[1;32mIn[1], line 2\u001b[0m\n\u001b[0;32m      1\u001b[0m \u001b[38;5;28;01mimport\u001b[39;00m \u001b[38;5;21;01mmath\u001b[39;00m \u001b[38;5;28;01mas\u001b[39;00m \u001b[38;5;21;01mmt\u001b[39;00m\n\u001b[1;32m----> 2\u001b[0m l,w\u001b[38;5;241m=\u001b[39m\u001b[38;5;28minput\u001b[39m(\u001b[38;5;124m'\u001b[39m\u001b[38;5;124mplease input the length and width:\u001b[39m\u001b[38;5;124m'\u001b[39m)\u001b[38;5;241m.\u001b[39msplit\n\u001b[0;32m      4\u001b[0m rectangular_length \u001b[38;5;241m=\u001b[39m \u001b[38;5;28mabs\u001b[39m(l)\n\u001b[0;32m      5\u001b[0m rectangular_width \u001b[38;5;241m=\u001b[39m \u001b[38;5;28mabs\u001b[39m(w)\n",
      "\u001b[1;31mTypeError\u001b[0m: cannot unpack non-iterable builtin_function_or_method object"
     ]
    }
   ],
   "source": [
    "import math as mt\n",
    "l,w=input('please input the length and width:').split\n",
    "\n",
    "rectangular_length = abs(l)\n",
    "rectangular_width = abs(w)\n",
    "\n",
    "area = rectangular_length * rectangular_width\n",
    "\n",
    "print('Area is :',area)\n",
    "print('Area apx is :',round(area,2))\n",
    "\n",
    "\n"
   ]
  }
 ],
 "metadata": {
  "kernelspec": {
   "display_name": "Demo_Saraniya",
   "language": "python",
   "name": "python3"
  },
  "language_info": {
   "codemirror_mode": {
    "name": "ipython",
    "version": 3
   },
   "file_extension": ".py",
   "mimetype": "text/x-python",
   "name": "python",
   "nbconvert_exporter": "python",
   "pygments_lexer": "ipython3",
   "version": "3.8.20"
  }
 },
 "nbformat": 4,
 "nbformat_minor": 5
}
