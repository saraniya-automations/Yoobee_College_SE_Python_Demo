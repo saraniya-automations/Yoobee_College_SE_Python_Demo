{
 "cells": [
  {
   "cell_type": "code",
   "execution_count": null,
   "id": "045ef915-c256-42ec-ae1f-3c64765c6abb",
   "metadata": {},
   "outputs": [
    {
     "ename": "ModuleNotFoundError",
     "evalue": "No module named 'qiskit'",
     "output_type": "error",
     "traceback": [
      "\u001b[1;31m---------------------------------------------------------------------------\u001b[0m",
      "\u001b[1;31mModuleNotFoundError\u001b[0m                       Traceback (most recent call last)",
      "Cell \u001b[1;32mIn[3], line 1\u001b[0m\n\u001b[1;32m----> 1\u001b[0m \u001b[38;5;28;01mimport\u001b[39;00m \u001b[38;5;21;01mqiskit\u001b[39;00m \u001b[38;5;28;01mas\u001b[39;00m \u001b[38;5;21;01mqk\u001b[39;00m\n\u001b[0;32m      2\u001b[0m \u001b[38;5;28;01mfrom\u001b[39;00m \u001b[38;5;21;01mqiskit_aer\u001b[39;00m \u001b[38;5;28;01mimport\u001b[39;00m AerSimulator\n\u001b[0;32m      3\u001b[0m \u001b[38;5;28;01mfrom\u001b[39;00m \u001b[38;5;21;01mqiskit\u001b[39;00m\u001b[38;5;21;01m.\u001b[39;00m\u001b[38;5;21;01mvisualization\u001b[39;00m \u001b[38;5;28;01mimport\u001b[39;00m plot_histogram\n",
      "\u001b[1;31mModuleNotFoundError\u001b[0m: No module named 'qiskit'"
     ]
    }
   ],
   "source": [
    "import qiskit as qk\n",
    "from qiskit_aer import AerSimulator\n",
    "from qiskit.visualization import plot_histogram\n",
    "# Create a quantum circuit with two qubits and two classical bits\n",
    "qc = qk.QuantumCircuit(2, 2)\n",
    "\n",
    "# Apply Hadamard gate to both qubits\n",
    "qc.h(0)\n",
    "qc.h(1)\n",
    "\n",
    "# Measure both qubits\n",
    "qc.measure(0, 0)\n",
    "qc.measure(1, 1)\n",
    "\n",
    "# Choose the qasm_simulator backend\n",
    "simulator = AerSimulator(method='statevector')\n",
    "\n",
    "# Simulate the circuit\n",
    "job = simulator.run(qc, shots=1024)\n",
    "\n",
    "# Get the result\n",
    "result = job.result()\n",
    "\n",
    "# Print the counts\n",
    "print(result.get_counts(qc))\n",
    "\n",
    "# Visualize the circuit\n",
    "print(qc)\n",
    "qc.draw(output='mpl').show()\n",
    "\n",
    "# Visualize the measurement outcomes\n",
    "plot_histogram(result.get_counts(qc))"
   ]
  },
  {
   "cell_type": "code",
   "execution_count": 1,
   "id": "11630b87-05ed-40ff-93ed-aab4ad4c3a8c",
   "metadata": {},
   "outputs": [
    {
     "ename": "ModuleNotFoundError",
     "evalue": "No module named 'qiskit'",
     "output_type": "error",
     "traceback": [
      "\u001b[1;31m---------------------------------------------------------------------------\u001b[0m",
      "\u001b[1;31mModuleNotFoundError\u001b[0m                       Traceback (most recent call last)",
      "Cell \u001b[1;32mIn[1], line 1\u001b[0m\n\u001b[1;32m----> 1\u001b[0m \u001b[38;5;28;01mfrom\u001b[39;00m \u001b[38;5;21;01mqiskit\u001b[39;00m \u001b[38;5;28;01mimport\u001b[39;00m QuantumCircuit, QuantumRegister, ClassicalRegister\n\u001b[0;32m      2\u001b[0m \u001b[38;5;28;01mimport\u001b[39;00m \u001b[38;5;21;01mmath\u001b[39;00m\n\u001b[0;32m      3\u001b[0m \u001b[38;5;28;01mfrom\u001b[39;00m \u001b[38;5;21;01mqiskit_aer\u001b[39;00m \u001b[38;5;28;01mimport\u001b[39;00m AerSimulator\n",
      "\u001b[1;31mModuleNotFoundError\u001b[0m: No module named 'qiskit'"
     ]
    }
   ],
   "source": [
    "from qiskit import QuantumCircuit, QuantumRegister, ClassicalRegister\n",
    "import math\n",
    "from qiskit_aer import AerSimulator\n",
    "from qiskit.visualization import plot_histogram\n",
    "## Uncomment the next line to see diagrams when running in a notebook\n",
    "#%matplotlib inline\n",
    "\n",
    "## Example 3-2: Entangled Qubits\n",
    "# Set up the program\n",
    "a = QuantumRegister(1, name='a')\n",
    "b = QuantumRegister(1, name='b')\n",
    "a_c = ClassicalRegister(1, name='ac')\n",
    "b_c = ClassicalRegister(1, name='bc')\n",
    "qc = QuantumCircuit(a, b, a_c, b_c)\n",
    "\n",
    "qc.h(a)              # put a into a superposition of 0 and 1\n",
    "qc.cx(a, b)        # entangle a and b\n",
    "qc.measure(a, a_c)\n",
    "qc.measure(b, b_c)\n",
    "\n",
    "print(qc)\n",
    "\n",
    "# Choose the qasm_simulator backend\n",
    "simulator = AerSimulator(method='statevector')\n",
    "\n",
    "# Simulate the circuit\n",
    "job = simulator.run(qc, shots=10000)\n",
    "\n",
    "# Get the result\n",
    "result = job.result()\n",
    "\n",
    "# Print the counts\n",
    "print(result.get_counts(qc))\n",
    "\n",
    "# Visualize the circuit\n",
    "print(qc)\n",
    "#qc.draw(output='mpl').show()\n",
    "\n",
    "# Visualize the measurement outcomes\n",
    "plot_histogram(result.get_counts(qc))"
   ]
  },
  {
   "cell_type": "code",
   "execution_count": null,
   "id": "c06ce125-069f-4dc7-a10a-6ae0da95e8f2",
   "metadata": {},
   "outputs": [],
   "source": []
  }
 ],
 "metadata": {
  "kernelspec": {
   "display_name": "base",
   "language": "python",
   "name": "python3"
  },
  "language_info": {
   "codemirror_mode": {
    "name": "ipython",
    "version": 3
   },
   "file_extension": ".py",
   "mimetype": "text/x-python",
   "name": "python",
   "nbconvert_exporter": "python",
   "pygments_lexer": "ipython3",
   "version": "3.12.7"
  }
 },
 "nbformat": 4,
 "nbformat_minor": 5
}
